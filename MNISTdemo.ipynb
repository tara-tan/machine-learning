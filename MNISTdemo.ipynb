{
 "cells": [
  {
   "cell_type": "code",
   "execution_count": 1,
   "metadata": {},
   "outputs": [],
   "source": [
    "import pandas as pd\n",
    "import idx2numpy\n",
    "import numpy as np\n",
    "import matplotlib.pyplot as plt\n",
    "from scipy.special import expit\n",
    "from copy import deepcopy\n",
    "\n",
    "file = r\".\\train-images.idx3-ubyte\"\n",
    "arr = idx2numpy.convert_from_file(file)#simple import (took me half an hour)\n"
   ]
  },
  {
   "cell_type": "code",
   "execution_count": 2,
   "metadata": {},
   "outputs": [
    {
     "data": {
      "image/png": "[encoded data removed]",
      "text/plain": [
       "<Figure size 640x480 with 1 Axes>"
      ]
     },
     "metadata": {},
     "output_type": "display_data"
    },
    {
     "name": "stdout",
     "output_type": "stream",
     "text": [
      "[[  0   0   0   0   0   0   0   0   0   0   0   0   0   0   0   0   0   0\n",
      "    0   0   0   0   0   0   0   0   0   0]\n",
      " [  0   0   0   0   0   0   0   0   0   0   0   0   0   0   0   0   0   0\n",
      "    0   0   0   0   0   0   0   0   0   0]\n",
      " [  0   0   0   0   0   0   0   0   0   0   0   0   0   0   0   0   0   0\n",
      "    0   0   0   0   0   0   0   0   0   0]\n",
      " [  0   0   0   0   0   0   0   0   0   0   0   0   0   0   0   0   0   0\n",
      "    0   0   0   0   0   0   0   0   0   0]\n",
      " [  0   0   0   0   0   0   0   0   0   0   0   0   0   0   0  51 159 253\n",
      "  159  50   0   0   0   0   0   0   0   0]\n",
      " [  0   0   0   0   0   0   0   0   0   0   0   0   0   0  48 238 252 252\n",
      "  252 237   0   0   0   0   0   0   0   0]\n",
      " [  0   0   0   0   0   0   0   0   0   0   0   0   0  54 227 253 252 239\n",
      "  233 252  57   6   0   0   0   0   0   0]\n",
      " [  0   0   0   0   0   0   0   0   0   0   0  10  60 224 252 253 252 202\n",
      "   84 252 253 122   0   0   0   0   0   0]\n",
      " [  0   0   0   0   0   0   0   0   0   0   0 163 252 252 252 253 252 252\n",
      "   96 189 253 167   0   0   0   0   0   0]\n",
      " [  0   0   0   0   0   0   0   0   0   0  51 238 253 253 190 114 253 228\n",
      "   47  79 255 168   0   0   0   0   0   0]\n",
      " [  0   0   0   0   0   0   0   0   0  48 238 252 252 179  12  75 121  21\n",
      "    0   0 253 243  50   0   0   0   0   0]\n",
      " [  0   0   0   0   0   0   0   0  38 165 253 233 208  84   0   0   0   0\n",
      "    0   0 253 252 165   0   0   0   0   0]\n",
      " [  0   0   0   0   0   0   0   7 178 252 240  71  19  28   0   0   0   0\n",
      "    0   0 253 252 195   0   0   0   0   0]\n",
      " [  0   0   0   0   0   0   0  57 252 252  63   0   0   0   0   0   0   0\n",
      "    0   0 253 252 195   0   0   0   0   0]\n",
      " [  0   0   0   0   0   0   0 198 253 190   0   0   0   0   0   0   0   0\n",
      "    0   0 255 253 196   0   0   0   0   0]\n",
      " [  0   0   0   0   0   0  76 246 252 112   0   0   0   0   0   0   0   0\n",
      "    0   0 253 252 148   0   0   0   0   0]\n",
      " [  0   0   0   0   0   0  85 252 230  25   0   0   0   0   0   0   0   0\n",
      "    7 135 253 186  12   0   0   0   0   0]\n",
      " [  0   0   0   0   0   0  85 252 223   0   0   0   0   0   0   0   0   7\n",
      "  131 252 225  71   0   0   0   0   0   0]\n",
      " [  0   0   0   0   0   0  85 252 145   0   0   0   0   0   0   0  48 165\n",
      "  252 173   0   0   0   0   0   0   0   0]\n",
      " [  0   0   0   0   0   0  86 253 225   0   0   0   0   0   0 114 238 253\n",
      "  162   0   0   0   0   0   0   0   0   0]\n",
      " [  0   0   0   0   0   0  85 252 249 146  48  29  85 178 225 253 223 167\n",
      "   56   0   0   0   0   0   0   0   0   0]\n",
      " [  0   0   0   0   0   0  85 252 252 252 229 215 252 252 252 196 130   0\n",
      "    0   0   0   0   0   0   0   0   0   0]\n",
      " [  0   0   0   0   0   0  28 199 252 252 253 252 252 233 145   0   0   0\n",
      "    0   0   0   0   0   0   0   0   0   0]\n",
      " [  0   0   0   0   0   0   0  25 128 252 253 252 141  37   0   0   0   0\n",
      "    0   0   0   0   0   0   0   0   0   0]\n",
      " [  0   0   0   0   0   0   0   0   0   0   0   0   0   0   0   0   0   0\n",
      "    0   0   0   0   0   0   0   0   0   0]\n",
      " [  0   0   0   0   0   0   0   0   0   0   0   0   0   0   0   0   0   0\n",
      "    0   0   0   0   0   0   0   0   0   0]\n",
      " [  0   0   0   0   0   0   0   0   0   0   0   0   0   0   0   0   0   0\n",
      "    0   0   0   0   0   0   0   0   0   0]\n",
      " [  0   0   0   0   0   0   0   0   0   0   0   0   0   0   0   0   0   0\n",
      "    0   0   0   0   0   0   0   0   0   0]]\n"
     ]
    }
   ],
   "source": [
    "plt.imshow(arr[1], cmap=plt.cm.binary)\n",
    "plt.show()\n",
    "print(arr[1])"
   ]
  },
  {
   "cell_type": "code",
   "execution_count": 3,
   "metadata": {},
   "outputs": [],
   "source": [
    "class Network(): #refer to the \"documentation\" buried within my notes\n",
    "                #vectorized implementation of a basic neural networks\n",
    "                #TODO add support for other cost functions/activaiton functions\n",
    "                #TODO add support for deleting layers\n",
    "    class Layer():\n",
    "\n",
    "        def __init__(self,nodeCount,nodePreviousLayer=0):#keep node connections as an array for better performance(to avoid member access overhead)\n",
    "            \n",
    "            print(\"debug:\")\n",
    "            print(nodePreviousLayer)\n",
    "\n",
    "            self._nodeArray = np.zeros(nodeCount,float)#node array\n",
    "\n",
    "            if(nodePreviousLayer):\n",
    "\n",
    "                self._weightArray = np.ones([nodeCount,len(nodePreviousLayer._nodeArray)],float)#incoming weights array row = node to go in, column = weights of the node in\n",
    "                self._biasArray = np.ones(nodeCount)#bias array\n",
    "\n",
    "                self._dBiasArray = np.zeros(nodeCount,float)#derivative of bias\n",
    "                self._dWeightArray = np.zeros([nodeCount, len(nodePreviousLayer._nodeArray)], float)  # derivative of incoming weights\n",
    "                self._dNodeArray = np.zeros(nodeCount,float)#delta array of ∂Activation/∂Node (refer to documentation)\n",
    "                                                            #node = w*incoming + bias\n",
    "\n",
    "                self._prevNodeArray = nodePreviousLayer._nodeArray #array of previous layer's data #DANGER MAKE SURE IT IS PASSING BY REFERENCE\n",
    "                \n",
    "\n",
    "        def _forwardProp(self): #TODO change this to support other activation functions\n",
    "            self._nodeArray = np.matmul(self._weightArray,self._prevNodeArray)+self._biasArray\n",
    "            # self._nodeArray = expit(self._nodeArray)\n",
    "            \n",
    "        # def _backProp(self):\n",
    "            \n",
    "    _layers = []\n",
    "\n",
    "    def __init__(self, startCount):#start count initializes the first layer\n",
    "        print(\"hi\")\n",
    "        self._layers = []\n",
    "        self._layers.append(self.Layer(startCount))\n",
    "\n",
    "    def addLayer(self,nodeCount):#public interface to add new layers (not counting the starting layer)\n",
    "        self._layers.append(self.Layer(nodeCount,self._layers[-1]))\n",
    "        print(\"current layer count = \")\n",
    "        print(Network._layers)\n",
    "\n",
    "    def setInputLayer(self,inputData):#public interface to set first layer data\n",
    "        self._layers[0]._nodeArray = inputData.copy() #better be safe than sorry\n",
    "\n",
    "    def trainNetwork(self):\n",
    "        for i in range(len(self._layers)-1):\n",
    "            self._layers[i+1]._forwardProp()\n",
    "\n",
    "    def getResult(self, desiredAnswerNodes):#calculate the cost\n",
    "        outputNodes=self._layers[-1]._nodeArray\n",
    "        print(\"output nodes: \" , outputNodes)\n",
    "        return self._costFunction(desiredAnswerNodes,outputNodes)\n",
    "    \n",
    "    def _costFunction(self, desired,output):#cost function, Mean squared error\n",
    "        return np.sum(np.power(desired - output,2))\n"
   ]
  },
  {
   "cell_type": "code",
   "execution_count": 6,
   "metadata": {},
   "outputs": [
    {
     "name": "stdout",
     "output_type": "stream",
     "text": [
      "hi\n",
      "debug:\n",
      "0\n"
     ]
    },
    {
     "name": "stdout",
     "output_type": "stream",
     "text": [
      "debug:\n",
      "<__main__.Network.Layer object at 0x000001B57A90F130>\n",
      "current layer count = \n",
      "[]\n",
      "debug:\n",
      "<__main__.Network.Layer object at 0x000001B57A80CBE0>\n",
      "current layer count = \n",
      "[]\n",
      "debug:\n",
      "<__main__.Network.Layer object at 0x000001B57A94D790>\n",
      "current layer count = \n",
      "[]\n",
      "debug:\n",
      "<__main__.Network.Layer object at 0x000001B57A80C370>\n",
      "current layer count = \n",
      "[]\n",
      "output nodes:  [0. 0. 0. 0.]\n",
      "4.0\n",
      "output nodes:  [1. 1. 1. 1.]\n",
      "0.0\n"
     ]
    }
   ],
   "source": [
    "network = Network(5)\n",
    "network.setInputLayer([1,1,1,1,1])\n",
    "network.addLayer(2)\n",
    "network.addLayer(2)\n",
    "network.addLayer(3)\n",
    "network.addLayer(4)\n",
    "print(network.getResult([1, 1,1,1]))\n",
    "network.trainNetwork()   \n",
    "network.trainNetwork()\n",
    "network.trainNetwork()\n",
    "network.trainNetwork()\n",
    "print(network.getResult([1,1,1,1]))"
   ]
  },
  {
   "cell_type": "code",
   "execution_count": 5,
   "metadata": {},
   "outputs": [
    {
     "ename": "ValueError",
     "evalue": "matmul: Input operand 1 has a mismatch in its core dimension 0, with gufunc signature (n?,k),(k,m?)->(n?,m?) (size 1 is different from 2)",
     "output_type": "error",
     "traceback": [
      "\u001b[1;31m---------------------------------------------------------------------------\u001b[0m",
      "\u001b[1;31mValueError\u001b[0m                                Traceback (most recent call last)",
      "Cell \u001b[1;32mIn [5], line 5\u001b[0m\n\u001b[0;32m      3\u001b[0m testB \u001b[38;5;241m=\u001b[39m np\u001b[38;5;241m.\u001b[39marray([[\u001b[38;5;241m1\u001b[39m,\u001b[38;5;241m1\u001b[39m,\u001b[38;5;241m1\u001b[39m]])\n\u001b[0;32m      4\u001b[0m testC \u001b[38;5;241m=\u001b[39m np\u001b[38;5;241m.\u001b[39mones((\u001b[38;5;241m3\u001b[39m,\u001b[38;5;241m2\u001b[39m))\n\u001b[1;32m----> 5\u001b[0m \u001b[38;5;28mprint\u001b[39m(\u001b[43mnp\u001b[49m\u001b[38;5;241;43m.\u001b[39;49m\u001b[43mmatmul\u001b[49m\u001b[43m(\u001b[49m\u001b[43mtestA\u001b[49m\u001b[43m,\u001b[49m\u001b[43mtestB\u001b[49m\u001b[43m)\u001b[49m)\n\u001b[0;32m      6\u001b[0m \u001b[38;5;28mprint\u001b[39m(testC)\n",
      "\u001b[1;31mValueError\u001b[0m: matmul: Input operand 1 has a mismatch in its core dimension 0, with gufunc signature (n?,k),(k,m?)->(n?,m?) (size 1 is different from 2)"
     ]
    }
   ],
   "source": [
    "testA = np.array([[1,2],\n",
    "                  [3,4]])\n",
    "testB = np.array([[1,1,1]])\n",
    "testC = np.ones((3,2))\n",
    "print(np.matmul(testA,testB))\n",
    "print(testC)"
   ]
  }
 ],
 "metadata": {
  "kernelspec": {
   "display_name": "Python 3",
   "language": "python",
   "name": "python3"
  },
  "language_info": {
   "codemirror_mode": {
    "name": "ipython",
    "version": 3
   },
   "file_extension": ".py",
   "mimetype": "text/x-python",
   "name": "python",
   "nbconvert_exporter": "python",
   "pygments_lexer": "ipython3",
   "version": "3.9.7"
  }
 },
 "nbformat": 4,
 "nbformat_minor": 2
}
